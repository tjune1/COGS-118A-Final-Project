{
 "cells": [
  {
   "cell_type": "code",
   "execution_count": 349,
   "metadata": {},
   "outputs": [],
   "source": [
    "#import necessary libraries\n",
    "import numpy as np\n",
    "import csv"
   ]
  },
  {
   "cell_type": "code",
   "execution_count": 351,
   "metadata": {},
   "outputs": [],
   "source": [
    "#load data (remove incomplete instances and 'car name' feature)\n",
    "X_and_Y = np.zeros((392,8)) #392 instances, 8 attributes\n",
    "reader = csv.reader(open('./datasets/carMPG/auto-mpg.data.txt'), delimiter='\\t')\n",
    "i=0\n",
    "for row in reader:\n",
    "    row[0] = row[0].split()\n",
    "    if '?' not in row[0]:\n",
    "        X_and_Y[i] = row[0]\n",
    "        i = i + 1\n",
    "#convert model year into age of car\n",
    "X_and_Y[:,6] = 118 - X_and_Y[:,6]"
   ]
  },
  {
   "cell_type": "code",
   "execution_count": 358,
   "metadata": {},
   "outputs": [
    {
     "name": "stdout",
     "output_type": "stream",
     "text": [
      "(392, 7) (392,)\n"
     ]
    }
   ],
   "source": [
    "#shuffling data, changing regression to classification (splitting along mean)\n",
    "np.random.shuffle(X_and_Y)\n",
    "X = X_and_Y[:,1:]\n",
    "Y = X_and_Y[:,0]\n",
    "Y_mean = np.mean(Y)\n",
    "Y_class = np.copy(Y)\n",
    "Y_class[Y>=Y_mean] = 1\n",
    "Y_class[Y<Y_mean] = -1\n",
    "print(X.shape, Y.shape)"
   ]
  },
  {
   "cell_type": "code",
   "execution_count": 359,
   "metadata": {},
   "outputs": [
    {
     "name": "stdout",
     "output_type": "stream",
     "text": [
      "(313, 7) (79, 7) (313,) (79,)\n"
     ]
    }
   ],
   "source": [
    "#partition data (80/20)\n",
    "set_split = int(Y.shape[0]*0.8)\n",
    "X_train_val = X[:set_split,:] # Get features from train + val set.\n",
    "X_test      = X[set_split:,:] # Get features from test set.     \n",
    "Y_train_val = Y_class[:set_split] # Get labels from train + val set.\n",
    "Y_test      = Y_class[set_split:] # Get labels from test set.  \n",
    "print(X_train_val.shape, X_test.shape, Y_train_val.shape, Y_test.shape)"
   ]
  },
  {
   "cell_type": "code",
   "execution_count": 372,
   "metadata": {},
   "outputs": [
    {
     "name": "stdout",
     "output_type": "stream",
     "text": [
      "0.9233226837060703\n"
     ]
    }
   ],
   "source": [
    "#svm classifier\n",
    "from sklearn import svm\n",
    "svm_class = svm.SVC(kernel='linear')\n",
    "svm_class.fit(X_train_val, Y_train_val)\n",
    "test_acc = svm_class.score(X_train_val,Y_train_val)\n",
    "print(test_acc)"
   ]
  },
  {
   "cell_type": "code",
   "execution_count": 379,
   "metadata": {},
   "outputs": [
    {
     "name": "stdout",
     "output_type": "stream",
     "text": [
      "0.7721518987341772\n"
     ]
    }
   ],
   "source": [
    "#logistic regression classifier\n",
    "from sklearn.linear_model import LogisticRegression\n",
    "logreg_class = LogisticRegression()\n",
    "logreg_class.fit(X_train_val, Y_train_val)\n",
    "test_acc = logreg_class.score(X_test,Y_test)\n",
    "print(test_acc)"
   ]
  },
  {
   "cell_type": "code",
   "execution_count": 367,
   "metadata": {},
   "outputs": [
    {
     "name": "stdout",
     "output_type": "stream",
     "text": [
      "0.9113924050632911\n"
     ]
    }
   ],
   "source": [
    "#decision tree classifier\n",
    "from sklearn.tree import DecisionTreeClassifier\n",
    "dectree_class = DecisionTreeClassifier()\n",
    "dectree_class.fit(X_train_val, Y_train_val)\n",
    "test_acc = dectree_class.score(X_test,Y_test)\n",
    "print(test_acc)"
   ]
  },
  {
   "cell_type": "code",
   "execution_count": 368,
   "metadata": {},
   "outputs": [
    {
     "name": "stdout",
     "output_type": "stream",
     "text": [
      "0.8860759493670886\n"
     ]
    }
   ],
   "source": [
    "#random forest classifier\n",
    "from sklearn.ensemble import RandomForestClassifier\n",
    "randforest_class = RandomForestClassifier()\n",
    "randforest_class.fit(X_train_val, Y_train_val)\n",
    "test_acc = randforest_class.score(X_test,Y_test)\n",
    "print(test_acc)"
   ]
  },
  {
   "cell_type": "code",
   "execution_count": null,
   "metadata": {},
   "outputs": [],
   "source": []
  }
 ],
 "metadata": {
  "kernelspec": {
   "display_name": "Python 3",
   "language": "python",
   "name": "python3"
  },
  "language_info": {
   "codemirror_mode": {
    "name": "ipython",
    "version": 3
   },
   "file_extension": ".py",
   "mimetype": "text/x-python",
   "name": "python",
   "nbconvert_exporter": "python",
   "pygments_lexer": "ipython3",
   "version": "3.6.5"
  }
 },
 "nbformat": 4,
 "nbformat_minor": 2
}
