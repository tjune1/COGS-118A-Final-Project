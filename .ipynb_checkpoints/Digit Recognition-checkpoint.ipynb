{
 "cells": [
  {
   "cell_type": "markdown",
   "metadata": {},
   "source": [
    "# Digit Recognition Problem\n",
    "\n",
    "Sign Language Digits Dataset: https://www.kaggle.com/ardamavi/sign-language-digits-dataset\n",
    "\n",
    "Purpose: Classify images of sign language digits (0-9)"
   ]
  },
  {
   "cell_type": "markdown",
   "metadata": {},
   "source": [
    "## 1. Data Setup"
   ]
  },
  {
   "cell_type": "code",
   "execution_count": 1,
   "metadata": {},
   "outputs": [],
   "source": [
    "#import necessary libraries\n",
    "import numpy as np\n",
    "from itertools import combinations"
   ]
  },
  {
   "cell_type": "code",
   "execution_count": 2,
   "metadata": {},
   "outputs": [
    {
     "name": "stdout",
     "output_type": "stream",
     "text": [
      "(2062, 64, 64) (2062, 10)\n"
     ]
    }
   ],
   "source": [
    "#load dataset\n",
    "X_raw = np.load('./datasets/sign-language-digit-recognition/X.npy')\n",
    "Y_raw = np.load('./datasets/sign-language-digit-recognition/Y.npy')\n",
    "print(X_raw.shape, Y_raw.shape)"
   ]
  },
  {
   "cell_type": "code",
   "execution_count": 3,
   "metadata": {
    "scrolled": true
   },
   "outputs": [
    {
     "name": "stdout",
     "output_type": "stream",
     "text": [
      "(2062, 4096) (2062,) (2062, 4097)\n"
     ]
    }
   ],
   "source": [
    "#process dataset\n",
    "X_new = X_raw.reshape(2062,4096) #flaten image matrix into vector\n",
    "Y_new = np.argmax(Y_raw,axis=1) #argmax return image class vector (0-9)\n",
    "X_and_Y = np.hstack((X_new,Y_new.reshape(Y_new.shape[0],1)))\n",
    "np.random.shuffle(X_and_Y) #shuffle data\n",
    "print(X_new.shape, Y_new.shape, X_and_Y.shape)"
   ]
  },
  {
   "cell_type": "markdown",
   "metadata": {},
   "source": [
    "## 2. One vs. All Classifier"
   ]
  },
  {
   "cell_type": "markdown",
   "metadata": {},
   "source": [
    "### A. Algorithm"
   ]
  },
  {
   "cell_type": "code",
   "execution_count": 4,
   "metadata": {},
   "outputs": [],
   "source": [
    "from scipy.linalg import lstsq\n",
    "def LSRegression(X_train,Y_train,k):\n",
    "    Y_new = np.zeros(Y_train.shape)\n",
    "    Y_new[Y_train!=k] = -1\n",
    "    Y_new[Y_train==k] = 1\n",
    "    X_new = np.hstack((np.ones((X_train.shape[0],1)),X_train))\n",
    "    return lstsq(X_new,Y_new)[0]\n",
    "def OneVsAllClass(X_test,X_train,Y_train):\n",
    "    (N,F) = X_test.shape\n",
    "    Y_test = np.zeros(N)\n",
    "    W = np.zeros((F+1,10))\n",
    "    for ki in range(10):\n",
    "        W[:,ki] = LSRegression(X_train,Y_train,ki)\n",
    "    alpha = W[0,:]\n",
    "    beta = W[1:,:]\n",
    "    for li in range(N):\n",
    "        f = np.zeros(10)\n",
    "        for ki in range(10):\n",
    "            f[ki] = X_test[li,:].dot(beta[:,ki]) + alpha[ki]\n",
    "        Y_test[li] = np.argmax(f)\n",
    "    return Y_test"
   ]
  },
  {
   "cell_type": "markdown",
   "metadata": {},
   "source": [
    "### B. Training and Testing"
   ]
  },
  {
   "cell_type": "code",
   "execution_count": 5,
   "metadata": {},
   "outputs": [],
   "source": [
    "#split data into feature and label vectors\n",
    "X = X_and_Y[:,:-1]\n",
    "Y = X_and_Y[:,-1]\n",
    "#partition data (80/20)\n",
    "set_split   = int(Y.shape[0]*0.8)\n",
    "X_train_val = X[:set_split,:] # Get features from train + val set.\n",
    "X_test      = X[set_split:,:] # Get features from test set.     \n",
    "Y_train_val = Y[:set_split]   # Get labels from train + val set.\n",
    "Y_test      = Y[set_split:]   # Get labels from test set."
   ]
  },
  {
   "cell_type": "markdown",
   "metadata": {},
   "source": [
    "### C. Prediction and Accuracy"
   ]
  },
  {
   "cell_type": "code",
   "execution_count": 6,
   "metadata": {
    "scrolled": true
   },
   "outputs": [
    {
     "data": {
      "text/plain": [
       "0.3704600484261501"
      ]
     },
     "execution_count": 6,
     "metadata": {},
     "output_type": "execute_result"
    }
   ],
   "source": [
    "from sklearn.metrics import accuracy_score\n",
    "Y_pred = OneVsAllClass(X_test,X_train_val,Y_train_val)\n",
    "accuracy_score(Y_pred,Y_test)"
   ]
  },
  {
   "cell_type": "markdown",
   "metadata": {},
   "source": [
    "### D. Sklearn Implementation and Comparison"
   ]
  },
  {
   "cell_type": "code",
   "execution_count": 7,
   "metadata": {},
   "outputs": [
    {
     "data": {
      "text/plain": [
       "0.3704600484261501"
      ]
     },
     "execution_count": 7,
     "metadata": {},
     "output_type": "execute_result"
    }
   ],
   "source": [
    "from sklearn.linear_model import LinearRegression\n",
    "from sklearn.multiclass import OneVsRestClassifier\n",
    "classifier = OneVsRestClassifier(LinearRegression())\n",
    "classifier.fit(X_train_val,Y_train_val)\n",
    "Y_pred = classifier.predict(X_test)\n",
    "accuracy_score(Y_pred,Y_test)"
   ]
  },
  {
   "cell_type": "code",
   "execution_count": 8,
   "metadata": {},
   "outputs": [
    {
     "data": {
      "text/plain": [
       "0.6731234866828087"
      ]
     },
     "execution_count": 8,
     "metadata": {},
     "output_type": "execute_result"
    }
   ],
   "source": [
    "from sklearn.svm import SVC\n",
    "from sklearn.multiclass import OneVsRestClassifier\n",
    "classifier = OneVsRestClassifier(SVC(kernel='linear',decision_function_shape='ovr'))\n",
    "classifier.fit(X_train_val,Y_train_val)\n",
    "Y_pred = classifier.predict(X_test)\n",
    "accuracy_score(Y_pred,Y_test)"
   ]
  },
  {
   "cell_type": "markdown",
   "metadata": {},
   "source": [
    "## 3. One vs. One Classifier"
   ]
  },
  {
   "cell_type": "markdown",
   "metadata": {},
   "source": [
    "### A. Algorithm"
   ]
  },
  {
   "cell_type": "code",
   "execution_count": 9,
   "metadata": {},
   "outputs": [],
   "source": [
    "from scipy.linalg import lstsq\n",
    "def OneVsOneClass(X_test,X_train,Y_train):\n",
    "    #initialize empty classification array\n",
    "    Y_class = np.zeros((X_test.shape[0],10))\n",
    "    #concatenate X_train and Y_train into one matrix\n",
    "    XY_train = np.hstack((X_train,Y_train.reshape(Y_train.shape[0],1)))\n",
    "    #iterate through all n choose k pairs\n",
    "    for (i,j) in list(combinations([0,1,2,3,4,5,6,7,8,9], 2)):\n",
    "        pair = np.array([i,j])\n",
    "        #make temp dataset of only classes in pair\n",
    "        XY_temp = XY_train[np.isin(XY_train[:,-1],pair)]\n",
    "        #pair[0]=+1, pair[1]=-1\n",
    "        XY_temp[XY_temp[:,-1]==pair[0],-1] = 1\n",
    "        XY_temp[XY_temp[:,-1]==pair[1],-1] = -1\n",
    "        #split temp dataset into temp features and temp labels\n",
    "        X_temp = np.hstack((np.ones((XY_temp.shape[0],1)),XY_temp[:,:-1]))\n",
    "        Y_temp = XY_temp[:,-1]\n",
    "        #least squares solution\n",
    "        W = lstsq(X_temp,Y_temp)[0]\n",
    "        #predict labels\n",
    "        Y_i = np.sign(X_test.dot(W[1:])+W[0])\n",
    "        #vote counter for labeled classes\n",
    "        Y_class[Y_i==1,pair[0]] = Y_class[Y_i==1,pair[0]] + 1\n",
    "        Y_class[Y_i==-1,pair[1]] = Y_class[Y_i==-1,pair[1]] + 1\n",
    "        #return labels with highest voted classes\n",
    "    return np.argmax(Y_class,axis=1)"
   ]
  },
  {
   "cell_type": "markdown",
   "metadata": {},
   "source": [
    "### B. Training and Testing"
   ]
  },
  {
   "cell_type": "code",
   "execution_count": 10,
   "metadata": {},
   "outputs": [],
   "source": [
    "#split data into feature and label vectors\n",
    "X = X_and_Y[:,:-1]\n",
    "Y = X_and_Y[:,-1]\n",
    "#partition data (80/20)\n",
    "set_split   = int(Y.shape[0]*0.8)\n",
    "X_train_val = X[:set_split,:] # Get features from train + val set.\n",
    "X_test      = X[set_split:,:] # Get features from test set.     \n",
    "Y_train_val = Y[:set_split]   # Get labels from train + val set.\n",
    "Y_test      = Y[set_split:]   # Get labels from test set."
   ]
  },
  {
   "cell_type": "markdown",
   "metadata": {},
   "source": [
    "### C. Prediction and Accuracy"
   ]
  },
  {
   "cell_type": "code",
   "execution_count": 11,
   "metadata": {},
   "outputs": [
    {
     "data": {
      "text/plain": [
       "0.7602905569007264"
      ]
     },
     "execution_count": 11,
     "metadata": {},
     "output_type": "execute_result"
    }
   ],
   "source": [
    "from sklearn.metrics import accuracy_score\n",
    "Y_pred = OneVsOneClass(X_test,X_train_val,Y_train_val)\n",
    "accuracy_score(Y_pred,Y_test)"
   ]
  },
  {
   "cell_type": "markdown",
   "metadata": {},
   "source": [
    "### D. Sklearn Implementation and Comparison"
   ]
  },
  {
   "cell_type": "code",
   "execution_count": 12,
   "metadata": {},
   "outputs": [
    {
     "data": {
      "text/plain": [
       "0.37772397094430993"
      ]
     },
     "execution_count": 12,
     "metadata": {},
     "output_type": "execute_result"
    }
   ],
   "source": [
    "from sklearn.linear_model import LinearRegression\n",
    "from sklearn.multiclass import OneVsOneClassifier\n",
    "classifier = OneVsOneClassifier(LinearRegression())\n",
    "classifier.fit(X_train_val,Y_train_val)\n",
    "Y_pred = classifier.predict(X_test)\n",
    "accuracy_score(Y_pred,Y_test)"
   ]
  },
  {
   "cell_type": "code",
   "execution_count": 13,
   "metadata": {},
   "outputs": [
    {
     "data": {
      "text/plain": [
       "0.7893462469733656"
      ]
     },
     "execution_count": 13,
     "metadata": {},
     "output_type": "execute_result"
    }
   ],
   "source": [
    "from sklearn.svm import SVC\n",
    "from sklearn.multiclass import OneVsOneClassifier\n",
    "classifier = OneVsOneClassifier(SVC(kernel='linear',decision_function_shape='ovo'))\n",
    "classifier.fit(X_train_val,Y_train_val)\n",
    "Y_pred = classifier.predict(X_test)\n",
    "accuracy_score(Y_pred,Y_test)"
   ]
  }
 ],
 "metadata": {
  "kernelspec": {
   "display_name": "Python 3",
   "language": "python",
   "name": "python3"
  },
  "language_info": {
   "codemirror_mode": {
    "name": "ipython",
    "version": 3
   },
   "file_extension": ".py",
   "mimetype": "text/x-python",
   "name": "python",
   "nbconvert_exporter": "python",
   "pygments_lexer": "ipython3",
   "version": "3.6.5"
  }
 },
 "nbformat": 4,
 "nbformat_minor": 2
}
